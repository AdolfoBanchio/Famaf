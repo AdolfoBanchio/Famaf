{
 "cells": [
  {
   "cell_type": "code",
   "execution_count": 1,
   "metadata": {},
   "outputs": [],
   "source": [
    "import random as rd\n",
    "import numpy as np"
   ]
  },
  {
   "cell_type": "code",
   "execution_count": 2,
   "metadata": {},
   "outputs": [],
   "source": [
    "def simulation_a():\n",
    "    N=0\n",
    "    results=list(np.arange(2,13))\n",
    "    j=0\n",
    "    while len(results)!=0:\n",
    "        dado=rd.randint(1,6)\n",
    "        dado+=rd.randint(1,6)\n",
    "        if dado in results:\n",
    "            results.remove(dado)\n",
    "        j+=1\n",
    "    N+=j\n",
    "    return N"
   ]
  },
  {
   "cell_type": "code",
   "execution_count": 3,
   "metadata": {},
   "outputs": [
    {
     "data": {
      "text/plain": [
       "27"
      ]
     },
     "execution_count": 3,
     "metadata": {},
     "output_type": "execute_result"
    }
   ],
   "source": [
    "simulation_a()"
   ]
  },
  {
   "cell_type": "code",
   "execution_count": 4,
   "metadata": {},
   "outputs": [],
   "source": [
    "def media(n):\n",
    "    N=0\n",
    "    for j in range(n):\n",
    "        results=list(np.arange(2,13))\n",
    "        j=0\n",
    "        while len(results)!=0:\n",
    "            dado=rd.randint(1,6)\n",
    "            dado+=rd.randint(1,6)\n",
    "            if dado in results:\n",
    "                results.remove(dado)\n",
    "            j+=1\n",
    "        N+=j\n",
    "    return N/n"
   ]
  },
  {
   "cell_type": "code",
   "execution_count": 5,
   "metadata": {},
   "outputs": [
    {
     "data": {
      "text/plain": [
       "62.22"
      ]
     },
     "execution_count": 5,
     "metadata": {},
     "output_type": "execute_result"
    }
   ],
   "source": [
    "media(1000)"
   ]
  },
  {
   "cell_type": "code",
   "execution_count": 6,
   "metadata": {},
   "outputs": [],
   "source": [
    "def dev(n):\n",
    "    m=media(n)\n",
    "    var=0\n",
    "    for j in range(n):\n",
    "        results=list(np.arange(2,13))\n",
    "        j=0\n",
    "        while len(results)!=0:\n",
    "            dado=rd.randint(1,6)\n",
    "            dado+=rd.randint(1,6)\n",
    "            if dado in results:\n",
    "                results.remove(dado)\n",
    "            j+=1\n",
    "        var+=(j-m)**2\n",
    "    return (var/n)**0.5"
   ]
  },
  {
   "cell_type": "code",
   "execution_count": 7,
   "metadata": {},
   "outputs": [
    {
     "data": {
      "text/plain": [
       "34.699692549070214"
      ]
     },
     "execution_count": 7,
     "metadata": {},
     "output_type": "execute_result"
    }
   ],
   "source": [
    "dev(1000)"
   ]
  },
  {
   "cell_type": "code",
   "execution_count": null,
   "metadata": {},
   "outputs": [],
   "source": []
  }
 ],
 "metadata": {
  "kernelspec": {
   "display_name": "Python 3",
   "language": "python",
   "name": "python3"
  },
  "language_info": {
   "codemirror_mode": {
    "name": "ipython",
    "version": 3
   },
   "file_extension": ".py",
   "mimetype": "text/x-python",
   "name": "python",
   "nbconvert_exporter": "python",
   "pygments_lexer": "ipython3",
   "version": "3.10.13"
  },
  "orig_nbformat": 4
 },
 "nbformat": 4,
 "nbformat_minor": 2
}
