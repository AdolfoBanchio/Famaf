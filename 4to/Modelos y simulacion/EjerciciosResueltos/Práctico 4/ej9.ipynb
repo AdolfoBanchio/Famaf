{
 "cells": [
  {
   "cell_type": "code",
   "execution_count": 1,
   "metadata": {},
   "outputs": [],
   "source": [
    "import random as rd\n",
    "from math import log\n",
    "import time\n",
    "import numpy as np\n",
    "from scipy.stats import geom"
   ]
  },
  {
   "cell_type": "code",
   "execution_count": 2,
   "metadata": {},
   "outputs": [],
   "source": [
    "def geom_tr_inv1(p):\n",
    "    u=rd.random()\n",
    "    return int(log(1-u)/log(1-p)) + 1"
   ]
  },
  {
   "cell_type": "code",
   "execution_count": 3,
   "metadata": {},
   "outputs": [],
   "source": [
    "#Utilizando la forumla recursiva\n",
    "def geom_tr_inv2(p):\n",
    "    u=rd.random()\n",
    "    F=p          #La acumulada \n",
    "    i=1\n",
    "    while u>=F:\n",
    "        i+=1\n",
    "        p*=(1-p)**(i-1)        #p_i=\n",
    "        F+=p\n",
    "    return i"
   ]
  },
  {
   "cell_type": "code",
   "execution_count": 4,
   "metadata": {},
   "outputs": [],
   "source": [
    "def ensayo(p):\n",
    "    u=rd.random()\n",
    "    if u<p:\n",
    "        return True\n",
    "    else:\n",
    "        return False"
   ]
  },
  {
   "cell_type": "code",
   "execution_count": 5,
   "metadata": {},
   "outputs": [],
   "source": [
    "def geom_ensayos(p):\n",
    "    i=1\n",
    "    while ensayo(p):\n",
    "        i+=1\n",
    "    return i"
   ]
  },
  {
   "attachments": {},
   "cell_type": "markdown",
   "metadata": {},
   "source": [
    "Comparemos las 2 generadores con el de scipy"
   ]
  },
  {
   "cell_type": "code",
   "execution_count": 6,
   "metadata": {},
   "outputs": [],
   "source": [
    "def sim_geom_tr_inv1(p,it):\n",
    "    a=np.zeros(10)\n",
    "    for j in range(it):\n",
    "        u=geom_tr_inv1(p)\n",
    "        if u<=10:\n",
    "            a[u-1]+=1\n",
    "    return a/it"
   ]
  },
  {
   "cell_type": "code",
   "execution_count": 7,
   "metadata": {},
   "outputs": [],
   "source": [
    "def sim_geom_tr_inv2(p,it):\n",
    "    a=np.zeros(10)\n",
    "    for j in range(it):\n",
    "        u=geom_tr_inv2(p)\n",
    "        if u<=10:\n",
    "            a[u-1]+=1\n",
    "    return a/it"
   ]
  },
  {
   "cell_type": "code",
   "execution_count": 8,
   "metadata": {},
   "outputs": [],
   "source": [
    "def sim_geom_ensayos(p,it):\n",
    "    a=np.zeros(10)\n",
    "    for j in range(it):\n",
    "        u=geom_ensayos(p)\n",
    "        if u<=10:\n",
    "            a[u-1]+=1\n",
    "    return a/it"
   ]
  },
  {
   "cell_type": "code",
   "execution_count": 9,
   "metadata": {},
   "outputs": [],
   "source": [
    "def sim_scipy_geom(p,it):\n",
    "    a=np.zeros(10)\n",
    "    for j in range(it):\n",
    "        u=geom.rvs(p)\n",
    "        if u<=10:\n",
    "            a[u-1]+=1\n",
    "    return a/it"
   ]
  },
  {
   "cell_type": "code",
   "execution_count": 16,
   "metadata": {},
   "outputs": [
    {
     "data": {
      "text/plain": [
       "array([7.950e-01, 1.614e-01, 3.370e-02, 8.000e-03, 1.100e-03, 6.000e-04,\n",
       "       2.000e-04, 0.000e+00, 0.000e+00, 0.000e+00])"
      ]
     },
     "execution_count": 16,
     "metadata": {},
     "output_type": "execute_result"
    }
   ],
   "source": [
    "sim_geom_tr_inv1(0.8,10000)"
   ]
  },
  {
   "cell_type": "code",
   "execution_count": 11,
   "metadata": {},
   "outputs": [
    {
     "data": {
      "text/plain": [
       "array([0.8033, 0.1559, 0.0408, 0.    , 0.    , 0.    , 0.    , 0.    ,\n",
       "       0.    , 0.    ])"
      ]
     },
     "execution_count": 11,
     "metadata": {},
     "output_type": "execute_result"
    }
   ],
   "source": [
    "sim_geom_tr_inv2(0.8,10000)"
   ]
  },
  {
   "cell_type": "code",
   "execution_count": 12,
   "metadata": {},
   "outputs": [
    {
     "data": {
      "text/plain": [
       "array([0.2009, 0.1573, 0.1226, 0.0977, 0.0801, 0.07  , 0.0537, 0.0409,\n",
       "       0.0325, 0.0276])"
      ]
     },
     "execution_count": 12,
     "metadata": {},
     "output_type": "execute_result"
    }
   ],
   "source": [
    "sim_geom_ensayos(0.8,10000)"
   ]
  },
  {
   "cell_type": "code",
   "execution_count": 13,
   "metadata": {},
   "outputs": [
    {
     "data": {
      "text/plain": [
       "array([7.965e-01, 1.611e-01, 3.440e-02, 6.800e-03, 1.000e-03, 2.000e-04,\n",
       "       0.000e+00, 0.000e+00, 0.000e+00, 0.000e+00])"
      ]
     },
     "execution_count": 13,
     "metadata": {},
     "output_type": "execute_result"
    }
   ],
   "source": [
    "sim_scipy_geom(0.8,10000)"
   ]
  }
 ],
 "metadata": {
  "kernelspec": {
   "display_name": "Python 3",
   "language": "python",
   "name": "python3"
  },
  "language_info": {
   "codemirror_mode": {
    "name": "ipython",
    "version": 3
   },
   "file_extension": ".py",
   "mimetype": "text/x-python",
   "name": "python",
   "nbconvert_exporter": "python",
   "pygments_lexer": "ipython3",
   "version": "3.9.2"
  },
  "orig_nbformat": 4
 },
 "nbformat": 4,
 "nbformat_minor": 2
}
