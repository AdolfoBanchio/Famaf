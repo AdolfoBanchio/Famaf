{
 "cells": [
  {
   "cell_type": "code",
   "execution_count": 1,
   "metadata": {},
   "outputs": [
    {
     "ename": "ModuleNotFoundError",
     "evalue": "No module named 'ipynb'",
     "output_type": "error",
     "traceback": [
      "\u001b[0;31m---------------------------------------------------------------------------\u001b[0m",
      "\u001b[0;31mModuleNotFoundError\u001b[0m                       Traceback (most recent call last)",
      "Cell \u001b[0;32mIn[1], line 4\u001b[0m\n\u001b[1;32m      2\u001b[0m \u001b[38;5;28;01mfrom\u001b[39;00m \u001b[38;5;21;01mmath\u001b[39;00m \u001b[38;5;28;01mimport\u001b[39;00m e,factorial\n\u001b[1;32m      3\u001b[0m \u001b[38;5;28;01mimport\u001b[39;00m \u001b[38;5;21;01mnumpy\u001b[39;00m \u001b[38;5;28;01mas\u001b[39;00m \u001b[38;5;21;01mnp\u001b[39;00m\n\u001b[0;32m----> 4\u001b[0m \u001b[38;5;28;01mfrom\u001b[39;00m \u001b[38;5;21;01mipynb\u001b[39;00m\u001b[38;5;21;01m.\u001b[39;00m\u001b[38;5;21;01mfs\u001b[39;00m\u001b[38;5;21;01m.\u001b[39;00m\u001b[38;5;21;01mfull\u001b[39;00m\u001b[38;5;21;01m.\u001b[39;00m\u001b[38;5;21;01mej7\u001b[39;00m \u001b[38;5;28;01mimport\u001b[39;00m poisson_tr_inv1\n",
      "\u001b[0;31mModuleNotFoundError\u001b[0m: No module named 'ipynb'"
     ]
    }
   ],
   "source": [
    "import random as rd\n",
    "from math import e,factorial\n",
    "import numpy as np\n",
    "from ipynb.fs.full.ej7 import poisson_tr_inv1"
   ]
  },
  {
   "attachments": {},
   "cell_type": "markdown",
   "metadata": {},
   "source": [
    "Funciones auxiliares"
   ]
  },
  {
   "cell_type": "code",
   "execution_count": null,
   "metadata": {},
   "outputs": [],
   "source": [
    "#Funcion de probabilidad de masa\n",
    "#Calcula P(X=i) donde X~P(l)\n",
    "def Poisson_pmf(i,l):\n",
    "    return (l**i)*(e**(-l))/factorial(i)"
   ]
  },
  {
   "cell_type": "code",
   "execution_count": null,
   "metadata": {},
   "outputs": [],
   "source": [
    "#funcion de distribucion acumulada\n",
    "#Calcula P(X<=i) donde X~P(l)\n",
    "def Poisson_cdf(k,l):\n",
    "    sum=0\n",
    "    for j in range(k+1):\n",
    "        sum+=Poisson_pmf(j,l)\n",
    "    return sum"
   ]
  },
  {
   "attachments": {},
   "cell_type": "markdown",
   "metadata": {},
   "source": [
    "Resolución"
   ]
  },
  {
   "cell_type": "code",
   "execution_count": null,
   "metadata": {},
   "outputs": [],
   "source": [
    "def tr_inv(l):\n",
    "    i=0\n",
    "    p=Poisson_pmf(i,l)/Poisson_cdf(10,l)\n",
    "    u=rd.random()\n",
    "    F=p\n",
    "    while u>=F:\n",
    "        i+=1\n",
    "        p=Poisson_pmf(i,l)/Poisson_cdf(10,l)\n",
    "        F+=p\n",
    "    return i"
   ]
  },
  {
   "cell_type": "code",
   "execution_count": null,
   "metadata": {},
   "outputs": [],
   "source": [
    "def rejection2(l):\n",
    "    y=poisson_tr_inv1(l)\n",
    "    while True:\n",
    "        if y<=10:       #en realidad 0<=y<=10, porq a=0 b=10.Pero poisson>=0\n",
    "            return y"
   ]
  },
  {
   "cell_type": "code",
   "execution_count": null,
   "metadata": {},
   "outputs": [],
   "source": [
    "#P(Y>2)=1-P(Y<=2)=1-(P(Y=0)+P(Y=1)+P(Y=2))\n",
    "def simulacion1(n):\n",
    "    a=np.zeros(3)       #a[i]/n = P(Y=i)\n",
    "    for i in range(n):\n",
    "        u=tr_inv(0.7)\n",
    "        if u<3:\n",
    "            a[u-1]+=1\n",
    "    return 1-np.sum(a/n)"
   ]
  },
  {
   "cell_type": "code",
   "execution_count": null,
   "metadata": {},
   "outputs": [],
   "source": [
    "def simulacion2(n):\n",
    "    a=np.zeros(3)       \n",
    "    for i in range(n):\n",
    "        u=rejection2(0.7)\n",
    "        if u<3:\n",
    "            a[u-1]+=1\n",
    "    return 1-np.sum(a/n)"
   ]
  },
  {
   "cell_type": "code",
   "execution_count": null,
   "metadata": {},
   "outputs": [
    {
     "data": {
      "text/plain": [
       "0.03620000000000001"
      ]
     },
     "execution_count": 171,
     "metadata": {},
     "output_type": "execute_result"
    }
   ],
   "source": [
    "simulacion1(10000)"
   ]
  },
  {
   "cell_type": "code",
   "execution_count": null,
   "metadata": {},
   "outputs": [
    {
     "data": {
      "text/plain": [
       "0.03299999999999992"
      ]
     },
     "execution_count": 172,
     "metadata": {},
     "output_type": "execute_result"
    }
   ],
   "source": [
    "simulacion2(10000)"
   ]
  }
 ],
 "metadata": {
  "kernelspec": {
   "display_name": "Python 3",
   "language": "python",
   "name": "python3"
  },
  "language_info": {
   "codemirror_mode": {
    "name": "ipython",
    "version": 3
   },
   "file_extension": ".py",
   "mimetype": "text/x-python",
   "name": "python",
   "nbconvert_exporter": "python",
   "pygments_lexer": "ipython3",
   "version": "3.12.0"
  },
  "orig_nbformat": 4
 },
 "nbformat": 4,
 "nbformat_minor": 2
}
