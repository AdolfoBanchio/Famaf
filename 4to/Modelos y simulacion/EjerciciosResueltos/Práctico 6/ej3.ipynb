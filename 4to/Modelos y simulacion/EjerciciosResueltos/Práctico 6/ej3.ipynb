{
 "cells": [
  {
   "cell_type": "code",
   "execution_count": 7,
   "metadata": {},
   "outputs": [],
   "source": [
    "import numpy as np\n",
    "import random as rd\n",
    "from math import sqrt,sin,pi,inf"
   ]
  },
  {
   "cell_type": "code",
   "execution_count": 8,
   "metadata": {},
   "outputs": [],
   "source": [
    "def g1(x):\n",
    "    return sin(x)/x\n",
    "\n",
    "def g2(x):\n",
    "    return (x/(1+x**4))"
   ]
  },
  {
   "cell_type": "code",
   "execution_count": 9,
   "metadata": {},
   "outputs": [],
   "source": [
    "#2*Tol es lo mas grande que puede medir mi IC\n",
    "#La idea es ir achicando el IC\n",
    "def integ_ab_semi(fun,a,b,tol,z_alfa_2,max_it):\n",
    "    n=1\n",
    "    mean_n=fun(a+((b-a)*rd.random())) * (b-a)\n",
    "    dev=0\n",
    "    semiancho=0\n",
    "\n",
    "    while n<max_it and (n<=100 or semiancho>=tol):\n",
    "        #Genero un nuevo dato\n",
    "        x=fun(a+((b-a)*rd.random())) * (b-a)\n",
    "        \n",
    "        #Actualizo la media\n",
    "        mean_n1= mean_n + ((x-mean_n)/(n+1))\n",
    "        \n",
    "        #Actualizo la desviacion\n",
    "        dev= (1-(1/n))*(dev**2) + (n+1)*((mean_n1 - mean_n)**2)\n",
    "        dev=dev**0.5\n",
    "\n",
    "        semiancho= z_alfa_2*dev/sqrt(n)\n",
    "        mean_n=mean_n1\n",
    "        n+=1\n",
    "    return n,round(mean_n1,4),round(dev,4),round(2*semiancho,4)"
   ]
  },
  {
   "cell_type": "code",
   "execution_count": 10,
   "metadata": {},
   "outputs": [],
   "source": [
    "#2*Tol es lo mas grande que puede medir mi IC\n",
    "#La idea es ir achicando el IC\n",
    "def integ_0inf_semi(fun,tol,z_alfa_2,max_it):\n",
    "    n=1\n",
    "    y=rd.random()\n",
    "    mean_n=fun(-1+(1/y)) / ((y**2)) #Ver por qué no necesita signo -\n",
    "    dev=0\n",
    "    semiancho=0\n",
    "\n",
    "    while n<max_it and (n<=100 or semiancho>=tol):\n",
    "        #Genero un nuevo dato\n",
    "        y=rd.random()\n",
    "        y=fun(-1+(1/y)) / ((y**2))\n",
    "        \n",
    "        #Actualizo la media\n",
    "        mean_n1= mean_n + ((y-mean_n)/(n+1))\n",
    "        \n",
    "        #Actualizo la desviacion\n",
    "        dev= (1-(1/n))*(dev**2) + (n+1)*((mean_n1 - mean_n)**2)\n",
    "        dev=dev**0.5\n",
    "\n",
    "        semiancho= z_alfa_2*dev/sqrt(n)\n",
    "        mean_n=mean_n1\n",
    "        n+=1\n",
    "    return n,round(mean_n1,4),round(dev,4),round(2*semiancho,4)"
   ]
  },
  {
   "cell_type": "code",
   "execution_count": 11,
   "metadata": {},
   "outputs": [
    {
     "name": "stdout",
     "output_type": "stream",
     "text": [
      "N° sims | I | S | IC\n",
      "(1000, -0.4435, 0.2119, 0.0263)\n",
      "(5000, -0.426, 0.212, 0.0118)\n",
      "(7000, -0.4298, 0.2138, 0.01)\n",
      "(170704, -0.4332, 0.2108, 0.002)\n"
     ]
    }
   ],
   "source": [
    "print(\"N° sims | I | S | IC\")\n",
    "print(integ_ab_semi(g1,pi,2*pi,0.001,1.96,1000))\n",
    "print(integ_ab_semi(g1,pi,2*pi,0.001,1.96,5000))\n",
    "print(integ_ab_semi(g1,pi,2*pi,0.001,1.96,7000))\n",
    "print(integ_ab_semi(g1,pi,2*pi,0.001,1.96,inf))\n"
   ]
  },
  {
   "cell_type": "code",
   "execution_count": 12,
   "metadata": {},
   "outputs": [
    {
     "name": "stdout",
     "output_type": "stream",
     "text": [
      "N° sims | I | S | IC\n",
      "(1000, 0.7727, 0.657, 0.0815)\n",
      "(5000, 0.7963, 0.6643, 0.0368)\n",
      "(7000, 0.7828, 0.6628, 0.0311)\n",
      "(1686364, 0.7863, 0.6626, 0.002)\n"
     ]
    }
   ],
   "source": [
    "print(\"N° sims | I | S | IC\")\n",
    "print(integ_0inf_semi(g2,0.001,1.96,1000))\n",
    "print(integ_0inf_semi(g2,0.001,1.96,5000))\n",
    "print(integ_0inf_semi(g2,0.001,1.96,7000))\n",
    "print(integ_0inf_semi(g2,0.001,1.96,inf))"
   ]
  }
 ],
 "metadata": {
  "kernelspec": {
   "display_name": "Python 3",
   "language": "python",
   "name": "python3"
  },
  "language_info": {
   "codemirror_mode": {
    "name": "ipython",
    "version": 3
   },
   "file_extension": ".py",
   "mimetype": "text/x-python",
   "name": "python",
   "nbconvert_exporter": "python",
   "pygments_lexer": "ipython3",
   "version": "3.12.0"
  },
  "orig_nbformat": 4
 },
 "nbformat": 4,
 "nbformat_minor": 2
}
