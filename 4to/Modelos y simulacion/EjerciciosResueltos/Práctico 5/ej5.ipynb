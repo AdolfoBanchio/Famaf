{
 "cells": [
  {
   "cell_type": "code",
   "execution_count": 6,
   "metadata": {},
   "outputs": [],
   "source": [
    "import random as rd\n",
    "import numpy as np\n",
    "from math import log"
   ]
  },
  {
   "cell_type": "code",
   "execution_count": 7,
   "metadata": {},
   "outputs": [],
   "source": [
    "#Generador de exponencial.\n",
    "def exp(lam):\n",
    "    u=1-rd.random()\n",
    "    return -log(u)/lam"
   ]
  },
  {
   "cell_type": "code",
   "execution_count": 15,
   "metadata": {},
   "outputs": [],
   "source": [
    "#X_M\n",
    "def gen_M():\n",
    "    x=np.array([exp(1),exp(1/2),exp(1/3)], dtype=float) #genero las exp\n",
    "    return np.max(x)\n",
    "\n",
    "#X_m\n",
    "def gen_m():\n",
    "    x=np.array([exp(1),exp(1/2),exp(1/3)], dtype=float) #genero las exp\n",
    "    return 1-np.min(x)\n"
   ]
  },
  {
   "cell_type": "code",
   "execution_count": 17,
   "metadata": {},
   "outputs": [
    {
     "name": "stdout",
     "output_type": "stream",
     "text": [
      "[11.80368153829669, 3.1850103064051414, 2.4435522380079, 1.3938612656835858, 1.613077104392999, 2.5698395144805226, 3.9825435095509527, 3.0521469666692114, 4.591072665240335, 1.545759254606984]\n",
      "[0.04409937082013671, 0.7220156873612602, 0.7571355764695109, 0.9776931870681549, 0.3706595078499677, 0.5674092023575558, 0.19780722250709892, 0.846801365011564, 0.3565574514362071, 0.5187393385563694]\n"
     ]
    }
   ],
   "source": [
    "M=[]\n",
    "m=[]\n",
    "for i in range(10):\n",
    "    M.append(gen_M())\n",
    "    m.append(gen_m())\n",
    "\n",
    "#print(M)\n",
    "#print(m)"
   ]
  }
 ],
 "metadata": {
  "kernelspec": {
   "display_name": "Python 3",
   "language": "python",
   "name": "python3"
  },
  "language_info": {
   "codemirror_mode": {
    "name": "ipython",
    "version": 3
   },
   "file_extension": ".py",
   "mimetype": "text/x-python",
   "name": "python",
   "nbconvert_exporter": "python",
   "pygments_lexer": "ipython3",
   "version": "3.9.2"
  },
  "orig_nbformat": 4
 },
 "nbformat": 4,
 "nbformat_minor": 2
}
