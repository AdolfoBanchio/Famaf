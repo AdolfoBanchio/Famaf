{
 "cells": [
  {
   "cell_type": "code",
   "execution_count": 1,
   "metadata": {},
   "outputs": [],
   "source": [
    "import numpy as np\n",
    "import random as rd\n",
    "from scipy.stats import binom, chi2\n"
   ]
  },
  {
   "cell_type": "code",
   "execution_count": 2,
   "metadata": {},
   "outputs": [],
   "source": [
    "data=np.array([6, 7, 3, 4, 7, 3, 7, 2, 6, 3, 7, 8, 2, 1, 3, 5, 8, 7],dtype=float)\n",
    "data1=np.array([6, 7, 3, 4, 7, 3, 7, 2, 6, 3, 7, 8, 2, 1, 3, 5, 8, 7])\n",
    "frec=np.bincount(data1) #type int"
   ]
  },
  {
   "cell_type": "code",
   "execution_count": 9,
   "metadata": {},
   "outputs": [
    {
     "name": "stdout",
     "output_type": "stream",
     "text": [
      "p= 0.6180555555555556\n"
     ]
    }
   ],
   "source": [
    "#en una binomial:E(x)=np => p=E(x)/n\n",
    "elems=np.unique(data)       #sin elementos repetidos.\n",
    "p=np.mean(data)/len(elems)\n",
    "print(\"p=\",p)"
   ]
  },
  {
   "cell_type": "code",
   "execution_count": 4,
   "metadata": {},
   "outputs": [],
   "source": [
    "#Estadistico\n",
    "def T(data, frec, p):\n",
    "    n=len(data)\n",
    "    N=frec\n",
    "    k=len(N)\n",
    "    t=0\n",
    "    rv=binom(k-1, p)\n",
    "    for i in range(k): \n",
    "        p_i=rv.pmf(i)\n",
    "        t+=((N[i]-(n*p_i))**2) / (n*p_i)\n",
    "    return t\n",
    "\n",
    "#Hago k-1 dado que n=8, pero k=9 pues N tiene la frecuencia del 0 el cual no\n",
    "#...está en la muestra"
   ]
  },
  {
   "cell_type": "code",
   "execution_count": 12,
   "metadata": {},
   "outputs": [
    {
     "name": "stdout",
     "output_type": "stream",
     "text": [
      "[6. 7. 3. 4. 7. 3. 7. 2. 6. 3. 7. 8. 2. 1. 3. 5. 8. 7.]\n",
      "[0 1 2 4 1 1 2 5 2]\n",
      "t= 31.49933093415532\n",
      "p-valor= 2.034860899247093e-05\n"
     ]
    }
   ],
   "source": [
    "print(data)\n",
    "print(frec)\n",
    "t=T(data, frec, p)\n",
    "#Grados de libertad de la chi: k-1-m, dado que estimamos 1 solo parametro, m=1\n",
    "#=>grados=8-1-1=6\n",
    "print(\"t=\",t)\n",
    "print(\"p-valor= {}\".format(1 - chi2.cdf(t,6)))"
   ]
  },
  {
   "cell_type": "code",
   "execution_count": 6,
   "metadata": {},
   "outputs": [],
   "source": [
    "def est_p_valor(data, frec, p,it):\n",
    "    n=len(data)\n",
    "    k=len(frec)\n",
    "    t_est=0\n",
    "    t=T(data, frec, p)\n",
    "    for i in range(it):\n",
    "        #Simulo muestra\n",
    "        muestra_sim=binom.rvs(k-1, p, size=n)   #n datos con distr F\n",
    "        \n",
    "        #Simulo p_i\n",
    "        elems=np.unique(muestra_sim)\n",
    "        p_sim=np.mean(muestra_sim)/len(elems)   #p_i de los datos simulados \n",
    "\n",
    "        #Calculo un nuevo estadistico\n",
    "        t1=T(muestra_sim, frec, p_sim) \n",
    "        if t1>=t:\n",
    "            t_est+=1\n",
    "    return t_est/it\n"
   ]
  },
  {
   "cell_type": "code",
   "execution_count": 7,
   "metadata": {},
   "outputs": [
    {
     "name": "stderr",
     "output_type": "stream",
     "text": [
      "/tmp/ipykernel_24745/323830467.py:10: RuntimeWarning: invalid value encountered in scalar divide\n",
      "  t+=((N[i]-(n*p_i))**2) / (n*p_i)\n",
      "/tmp/ipykernel_24745/323830467.py:10: RuntimeWarning: divide by zero encountered in scalar divide\n",
      "  t+=((N[i]-(n*p_i))**2) / (n*p_i)\n"
     ]
    },
    {
     "data": {
      "text/plain": [
       "0.75"
      ]
     },
     "execution_count": 7,
     "metadata": {},
     "output_type": "execute_result"
    }
   ],
   "source": [
    "est_p_valor(data, frec, p,500)"
   ]
  }
 ],
 "metadata": {
  "kernelspec": {
   "display_name": "Python 3",
   "language": "python",
   "name": "python3"
  },
  "language_info": {
   "codemirror_mode": {
    "name": "ipython",
    "version": 3
   },
   "file_extension": ".py",
   "mimetype": "text/x-python",
   "name": "python",
   "nbconvert_exporter": "python",
   "pygments_lexer": "ipython3",
   "version": "3.10.13"
  },
  "orig_nbformat": 4
 },
 "nbformat": 4,
 "nbformat_minor": 2
}
