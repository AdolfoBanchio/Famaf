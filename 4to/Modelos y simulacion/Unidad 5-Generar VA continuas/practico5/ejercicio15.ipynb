{
 "cells": [
  {
   "cell_type": "code",
   "execution_count": 4,
   "metadata": {},
   "outputs": [],
   "source": [
    "import numpy as np\n",
    "import random as rd"
   ]
  },
  {
   "attachments": {
    "image.png": {
     "image/png": "[encoded data removed]"
    }
   },
   "cell_type": "markdown",
   "metadata": {},
   "source": [
    "![image.png](attachment:image.png)"
   ]
  },
  {
   "cell_type": "code",
   "execution_count": 5,
   "metadata": {},
   "outputs": [],
   "source": [
    "def Poisson_no_homogeneo_adelgazamiento(T, lamda_t, lamda):\n",
    "    'Devuelve el n ́umero de eventos NT y los tiempos en Eventos'\n",
    "    'lamda_t(t): intensidad, lamda_t(t)<= lamda(es una cota)'\n",
    "    NT = 0\n",
    "    Eventos = []\n",
    "    U = 1 - rd.random()\n",
    "    t = -np.log(U) / lamda\n",
    "    while t <= T:\n",
    "        V = rd.random()\n",
    "        if V < lamda_t(t) / lamda:\n",
    "            NT += 1\n",
    "            Eventos.append(t)\n",
    "        t += -np.log(1-rd.random()) / lamda\n",
    "    return NT, Eventos"
   ]
  },
  {
   "cell_type": "code",
   "execution_count": 6,
   "metadata": {},
   "outputs": [
    {
     "name": "stdout",
     "output_type": "stream",
     "text": [
      "T = 1.5\n",
      "NT = 3\n",
      "Evento 1 en t = 0.3305711927366824\n",
      "Evento 2 en t = 0.6028995226094369\n",
      "Evento 3 en t = 0.6738546582475703\n"
     ]
    }
   ],
   "source": [
    "def lamda_t_1(t):\n",
    "    # para 0 <= t <= 3\n",
    "    return 3 + (4/(t+1))\n",
    "\n",
    "lamda_1 = lamda_t_1(3)\n",
    "T_1 = 1.5\n",
    "NT, Eventos = Poisson_no_homogeneo_adelgazamiento(T_1, lamda_t_1, lamda_1)\n",
    "\n",
    "print('T = 1.5')\n",
    "print('NT =', NT)\n",
    "for i in range(NT):\n",
    "    print('Evento', i+1, 'en t =', Eventos[i])"
   ]
  },
  {
   "cell_type": "markdown",
   "metadata": {},
   "source": [
    "Podemos mejorar el algoritmo separando en 3 intervalos. \n",
    "[0,1) [1,2) [2,3), para ello debo encontrar una cota de lambda adecuada para cada intervalo, en ese caso tomare el maxio de la funcion lamda_t en cada extremo.\n",
    "\n",
    "Para ello defino una generalizacion del algoritmo que tomara el T, el conjunto de subintervalos y los correspondientes lambdas. "
   ]
  },
  {
   "cell_type": "code",
   "execution_count": 12,
   "metadata": {},
   "outputs": [],
   "source": [
    "def Poisson_mejorado(T, interv, lamdas, lamda_t):\n",
    "    j = 0 # recorre intervalos\n",
    "    U = 1 - rd.random()\n",
    "    t = -np.log(U) / lamdas[j]\n",
    "    NT = 0\n",
    "    Eventos = []\n",
    "\n",
    "    while t <= T:\n",
    "        if t<=interv[j]:\n",
    "            V = rd.random()\n",
    "            if V < lamda_t(t) / lamdas[j]:\n",
    "                NT += 1\n",
    "                Eventos.append(t)\n",
    "            t += -np.log(1-rd.random()) / lamdas[j]\n",
    "        else: # t > interv[j]\n",
    "            t = interv[j] + (t - interv[j]) * lamdas[j] / lamdas[j+1]\n",
    "            j += 1\n",
    "\n",
    "    return NT, Eventos\n"
   ]
  },
  {
   "cell_type": "code",
   "execution_count": 20,
   "metadata": {},
   "outputs": [
    {
     "name": "stdout",
     "output_type": "stream",
     "text": [
      "T = 1.5 \n",
      "NT = 8\n",
      "Evento 1 en t = 0.22666179396999744\n",
      "Evento 2 en t = 0.25332700002223524\n",
      "Evento 3 en t = 0.3527923556406486\n",
      "Evento 4 en t = 0.8978015695723404\n",
      "Evento 5 en t = 0.898243125699615\n",
      "Evento 6 en t = 1.262680227728886\n",
      "Evento 7 en t = 1.3615758950018502\n",
      "Evento 8 en t = 1.3650340759699455\n"
     ]
    }
   ],
   "source": [
    "interv = [1, 2, 3]\n",
    "lambdas = [lamda_t_1(x) for x in interv]\n",
    "\n",
    "T = 1.5\n",
    "\n",
    "NT, Eventos = Poisson_mejorado(T, interv, lambdas, lamda_t_1)\n",
    "\n",
    "print(f'T = {T} ')\n",
    "print('NT =', NT)\n",
    "for i in range(NT):\n",
    "    print('Evento', i+1, 'en t =', Eventos[i])\n"
   ]
  }
 ],
 "metadata": {
  "kernelspec": {
   "display_name": "FAMAF",
   "language": "python",
   "name": "python3"
  },
  "language_info": {
   "codemirror_mode": {
    "name": "ipython",
    "version": 3
   },
   "file_extension": ".py",
   "mimetype": "text/x-python",
   "name": "python",
   "nbconvert_exporter": "python",
   "pygments_lexer": "ipython3",
   "version": "3.10.13"
  }
 },
 "nbformat": 4,
 "nbformat_minor": 2
}
