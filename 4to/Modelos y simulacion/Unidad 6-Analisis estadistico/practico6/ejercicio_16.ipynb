{
 "cells": [
  {
   "cell_type": "code",
   "execution_count": 1,
   "metadata": {},
   "outputs": [],
   "source": [
    "import random as rd\n",
    "import numpy as np\n",
    "import scipy as sp"
   ]
  },
  {
   "attachments": {
    "image.png": {
     "image/png": "[encoded data removed]"
    }
   },
   "cell_type": "markdown",
   "metadata": {},
   "source": [
    "![image.png](attachment:image.png)"
   ]
  },
  {
   "cell_type": "markdown",
   "metadata": {},
   "source": [
    "$$\n",
    "H_0: \\text{Los datos provienen de una distribucion aleatoria normal}\n",
    "$$"
   ]
  },
  {
   "cell_type": "code",
   "execution_count": 2,
   "metadata": {},
   "outputs": [],
   "source": [
    "muestra = np.array([91.9, 97.8, 111.4, 122.3, 105.4, 95.0, 103.8, 99.6, 96.6, 119.3, 104.8, 101.7], dtype=float)"
   ]
  },
  {
   "cell_type": "markdown",
   "metadata": {},
   "source": [
    "Estimo $\\mu$ y $\\sigma$ con los datos y calculo el estadístico de prueba $D$:"
   ]
  },
  {
   "cell_type": "code",
   "execution_count": 3,
   "metadata": {},
   "outputs": [
    {
     "name": "stdout",
     "output_type": "stream",
     "text": [
      "Mu: 104.13333333333333\n",
      "Sigma: 8.997345287484649\n"
     ]
    }
   ],
   "source": [
    "print(f\"Mu: {np.mean(muestra)}\")\n",
    "print(f\"Sigma: {np.std(muestra)}\")"
   ]
  },
  {
   "cell_type": "markdown",
   "metadata": {},
   "source": [
    "A partir de esta aproximación, calculo el estadistico de prueba usando F ~ N($\\hat{\\mu}$,$\\hat{\\sigma}$)\n",
    "\n",
    "Luego genero una muestra de n valores de una normal con media $\\hat{\\mu}$ y desviación $\\hat{\\sigma}$ y vuelvo a calcular los parametros $\\mu$ y $\\sigma$ y el estadistico de prueba D."
   ]
  },
  {
   "cell_type": "code",
   "execution_count": 4,
   "metadata": {},
   "outputs": [],
   "source": [
    "def estadistico_K_S_norm(muestra, mu, sigma):\n",
    "    muestra.sort()\n",
    "    n = len(muestra)\n",
    "    D = 0\n",
    "    for i in range(n):\n",
    "        F_yj = sp.stats.norm.cdf(muestra[i], mu, sigma)\n",
    "        izq = ((i+1)/n) - F_yj\n",
    "        der = F_yj - (i/n)\n",
    "        D = max(D, izq, der)\n",
    "    return D\n",
    "\n",
    "def estadistico_K_S_uniform(data):\n",
    "    data=np.sort(data) #Ordeno\n",
    "    n=len(data)\n",
    "    d=0\n",
    "    for j in range(n):\n",
    "        x=data[j]\n",
    "        d=max(d ,((j+1)/n)-x , x - j/n)\n",
    "    return d"
   ]
  },
  {
   "cell_type": "code",
   "execution_count": 9,
   "metadata": {},
   "outputs": [],
   "source": [
    "def simular_pvalor(nsims, muestra):\n",
    "    muestra.sort()\n",
    "    n = len(muestra)\n",
    "    mu = np.mean(muestra)\n",
    "    sigma = np.std(muestra)\n",
    "    D = estadistico_K_S_norm(muestra, mu, sigma)\n",
    "    hits = 0\n",
    "    mu_sim = 0\n",
    "    sigma_sim = 0\n",
    "    for _ in range(nsims):\n",
    "        #muestra_sim = sp.stats.norm.rvs(loc=mu, scale=sigma, size=n)\n",
    "        #mu_sim = np.mean(muestra_sim)\n",
    "        #sigma_sim = np.std(muestra_sim)\n",
    "        muestra_sim = np.random.uniform(0, 1, n)\n",
    "        #D_sim = estadistico_K_S_norm(muestra_sim, mu_sim, sigma_sim)\n",
    "        D_sim = estadistico_K_S_uniform(muestra_sim)\n",
    "        if D_sim >= D:\n",
    "            hits += 1\n",
    "    return hits/nsims, mu_sim, sigma_sim"
   ]
  },
  {
   "cell_type": "code",
   "execution_count": 45,
   "metadata": {},
   "outputs": [
    {
     "name": "stdout",
     "output_type": "stream",
     "text": [
      "P-valor: 0.6979\n",
      "Mu_est: 0\n",
      "Sigma_est: 0\n"
     ]
    }
   ],
   "source": [
    "nsims = 10000\n",
    "pvalor, mu_est, sigma_est = simular_pvalor(nsims, muestra)\n",
    "print(f\"P-valor: {pvalor}\")\n",
    "print(f\"Mu_est: {mu_est}\")\n",
    "print(f\"Sigma_est: {sigma_est}\")"
   ]
  },
  {
   "cell_type": "code",
   "execution_count": 51,
   "metadata": {},
   "outputs": [
    {
     "name": "stdout",
     "output_type": "stream",
     "text": [
      "KstestResult(statistic=0.19402097620229442, pvalue=0.688710117674284, statistic_location=105.4, statistic_sign=1)\n"
     ]
    }
   ],
   "source": [
    "print(sp.stats.kstest(muestra, 'norm', args=(np.mean(muestra), np.std(muestra))))"
   ]
  }
 ],
 "metadata": {
  "kernelspec": {
   "display_name": "FAMAF",
   "language": "python",
   "name": "python3"
  },
  "language_info": {
   "codemirror_mode": {
    "name": "ipython",
    "version": 3
   },
   "file_extension": ".py",
   "mimetype": "text/x-python",
   "name": "python",
   "nbconvert_exporter": "python",
   "pygments_lexer": "ipython3",
   "version": "3.10.13"
  }
 },
 "nbformat": 4,
 "nbformat_minor": 2
}
