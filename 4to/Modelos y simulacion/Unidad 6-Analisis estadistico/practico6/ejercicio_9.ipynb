{
 "cells": [
  {
   "cell_type": "code",
   "execution_count": 1,
   "metadata": {},
   "outputs": [],
   "source": [
    "import random as rd\n",
    "import numpy as np\n",
    "import scipy as sp"
   ]
  },
  {
   "attachments": {
    "image.png": {
     "image/png": "[encoded data removed]"
    }
   },
   "cell_type": "markdown",
   "metadata": {},
   "source": [
    "![image.png](attachment:image.png)"
   ]
  },
  {
   "cell_type": "markdown",
   "metadata": {},
   "source": [
    "Mi hipotesis establece que los datos provienen de una distribución continua F ~ U(0,1). Luego \n",
    "$$\n",
    "F(x) = \\begin{cases}\n",
    "0 & \\text{si } x < 0 \\\\\n",
    "x & \\text{si } 0 \\lt x \\lt 1 \\\\\n",
    "1 & \\text{si } x \\geq 1\n",
    "\\end{cases}\n",
    "$$"
   ]
  },
  {
   "cell_type": "markdown",
   "metadata": {},
   "source": [
    "Mi muestra $Y_1, Y_2, \\dots, Y_10$ es la siguiente:\n",
    "\n",
    "[0.06, 0.12, 0.18, 0.27, 0.33, 0.36, 0.72, 0.74, 0.77, 0.83]\n",
    "\n",
    "| j | Y_j | F(Y_j) | $\\frac{j}{10} - F(Y_j)$ | F(Y_j) - $\\frac{j-1}{10}$ |\n",
    "|---|-----|--------|------------------------|--------------------------|\n",
    "| 1 | 0.06 | 0.06 | 0.04 | -0.04 |\n",
    "| 2 | 0.12 | 0.12 | 0.08 | -0.08 |\n",
    "| 3 | 0.18 | 0.18 | 0.12 | -0.12 |\n",
    "| 4 | 0.27 | 0.27 | 0.13 | -0.13 |\n"
   ]
  },
  {
   "cell_type": "code",
   "execution_count": 2,
   "metadata": {},
   "outputs": [],
   "source": [
    "\"\"\"  \n",
    "Toma los datos observados y la funcion de distribucion acomulada\n",
    "de la distribucion que se quiere probar.\n",
    "\"\"\"\n",
    "def estadistico_K_S(datos, F):\n",
    "    datos.sort()\n",
    "    n = len(datos)\n",
    "    D = []\n",
    "    for i in range(n):\n",
    "        izq = ((i+1)/n) - F(datos[i])\n",
    "        der = F(datos[i]) - i/n\n",
    "        D.append(max(izq, der))\n",
    "    return max(D)"
   ]
  },
  {
   "cell_type": "code",
   "execution_count": 3,
   "metadata": {},
   "outputs": [],
   "source": [
    "def estimar_pvalor(nsims, data, F):\n",
    "    n = len(data)\n",
    "    d_obs = estadistico_K_S(data, F)\n",
    "    p_v = 0\n",
    "    \n",
    "    for _ in range(nsims):\n",
    "        u_m = np.random.uniform(0, 1, n) # genero la nueva muestra\n",
    "        u_m.sort()\n",
    "        d_j = 0\n",
    "        for j in range(n):\n",
    "            u_j = u_m[j]\n",
    "            d_j = max(d_j, (j+1)/n - u_j , u_j - j/n)\n",
    "        if d_j >= d_obs:\n",
    "            p_v += 1\n",
    "\n",
    "    return p_v/nsims"
   ]
  },
  {
   "cell_type": "code",
   "execution_count": 4,
   "metadata": {},
   "outputs": [
    {
     "name": "stdout",
     "output_type": "stream",
     "text": [
      "0.24\n",
      "0.555\n"
     ]
    }
   ],
   "source": [
    "datos = [0.06, 0.12, 0.18, 0.27, 0.33, 0.36, 0.72, 0.74, 0.77, 0.83]\n",
    "F = lambda x: x\n",
    "datos.sort()\n",
    "d_obs = estadistico_K_S(datos, F)\n",
    "print(d_obs)\n",
    "p_valor = estimar_pvalor(1000, datos, F)\n",
    "print(p_valor)"
   ]
  },
  {
   "cell_type": "code",
   "execution_count": 5,
   "metadata": {},
   "outputs": [
    {
     "data": {
      "text/plain": [
       "KstestResult(statistic=0.24, pvalue=0.5354975540922944, statistic_location=0.36, statistic_sign=1)"
      ]
     },
     "execution_count": 5,
     "metadata": {},
     "output_type": "execute_result"
    }
   ],
   "source": [
    "sp.stats.kstest(datos, 'uniform', args=(0, 1)) # para comparar con el test de scipy"
   ]
  }
 ],
 "metadata": {
  "kernelspec": {
   "display_name": "FAMAF",
   "language": "python",
   "name": "python3"
  },
  "language_info": {
   "codemirror_mode": {
    "name": "ipython",
    "version": 3
   },
   "file_extension": ".py",
   "mimetype": "text/x-python",
   "name": "python",
   "nbconvert_exporter": "python",
   "pygments_lexer": "ipython3",
   "version": "3.10.13"
  }
 },
 "nbformat": 4,
 "nbformat_minor": 2
}
