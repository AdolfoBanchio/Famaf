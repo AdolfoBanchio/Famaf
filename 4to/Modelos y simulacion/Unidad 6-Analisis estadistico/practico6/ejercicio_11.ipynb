{
 "cells": [
  {
   "cell_type": "code",
   "execution_count": 12,
   "metadata": {},
   "outputs": [],
   "source": [
    "import random as rd\n",
    "import numpy as np\n",
    "import scipy as sp"
   ]
  },
  {
   "attachments": {
    "image.png": {
     "image/png": "[encoded data removed]"
    }
   },
   "cell_type": "markdown",
   "metadata": {},
   "source": [
    "![image.png](attachment:image.png)"
   ]
  },
  {
   "cell_type": "markdown",
   "metadata": {},
   "source": [
    "Tenemos una muestra $Y_1, Y_2, \\cdots, Y_n$, que toman valores en el conjunto {1, 2, 3, 4, 5, 6, 7, 8}. Y quiero ver si los datos provienen de una variable X ~ Bin(n=8, p) donde no conozco el valor de p."
   ]
  },
  {
   "cell_type": "markdown",
   "metadata": {},
   "source": [
    "Si X ~ Bin(n=8, p), entonces:\n",
    "$$\n",
    "p_i = P(X = i) = \\binom{8}{i} p^i (1-p)^{8-i}\n",
    "$$\n",
    "\n",
    "La Esperanza de X estara dada por: $E(X) = np = 8p$. Entonces utilizo el estimador de la media poblacional para estimar p:"
   ]
  },
  {
   "cell_type": "code",
   "execution_count": 13,
   "metadata": {},
   "outputs": [
    {
     "name": "stdout",
     "output_type": "stream",
     "text": [
      "4.9444\n"
     ]
    }
   ],
   "source": [
    "data = np.array([6, 7, 3, 4, 7, 3, 7, 2, 6, 3, 7, 8, 2, 1, 3, 5, 8, 7], dtype=float)\n",
    "print(round(np.mean(data),4))"
   ]
  },
  {
   "cell_type": "markdown",
   "metadata": {},
   "source": [
    "Entonces tengo:\n",
    "$$\n",
    "\\begin{align*}\n",
    "E(X) &= 8p \\\\\n",
    "4.9444 &= 8p \\\\\n",
    "\\hat{p} &= 0.618\n",
    "\\end{align*}\n",
    "$$\n",
    "\n",
    "Ahora debo agrupar los valores de la muestra junto con sus frecuencias, se debe agrupar tal que la frecuencia es >= 3. Si un unico valor no cumple con la condicion, se debe agrupar con el valor mas cercano y la probabilidad se calculara como P(X > i) o P(X < i) segun corresponda."
   ]
  },
  {
   "cell_type": "code",
   "execution_count": 14,
   "metadata": {},
   "outputs": [
    {
     "name": "stdout",
     "output_type": "stream",
     "text": [
      "[1. 2. 3. 4. 5. 6. 7. 8.]\n",
      "[1 2 4 1 1 2 5 2]\n"
     ]
    }
   ],
   "source": [
    "values, frec = np.unique(data, return_counts=True)\n",
    "print(values)\n",
    "print(frec)"
   ]
  },
  {
   "cell_type": "markdown",
   "metadata": {},
   "source": [
    "Podemos hacer los siguientes grupos:\n",
    "- los que toman valores menores o iguales a 2. N = 3\n",
    "- los que toman valor 3, N = 4\n",
    "- los que toman valores entre 4 y 6, N = 4\n",
    "- los que toman valores mayores o iguales a 7 N = 7\n",
    "\n",
    "Ahora debo calcular las siguientes probabilidades utilizando $\\hat{p} = 0.618$:\n",
    "$$\n",
    "P(X \\leq 2) = P(X = 0) + P(X = 1) + P(X = 2) \\\\\n",
    "P(X = 3) = \\binom{8}{i} p^3 (1-p)^{8-3} \\\\\n",
    "P(4 \\leq X \\leq 6) = P(X = 4) + P(X = 5) + P(X = 6) \\\\\n",
    "P(X \\geq 7) = 1 - P(X < 7) \\\\\n",
    "= 1 - P(X = 0) - P(X = 1) - P(X = 2) - P(X = 3) - P(X = 4) - P(X = 5) - P(X = 6)\n",
    "$$"
   ]
  },
  {
   "cell_type": "markdown",
   "metadata": {},
   "source": [
    "Calculo las probabilidades:"
   ]
  },
  {
   "cell_type": "code",
   "execution_count": 15,
   "metadata": {},
   "outputs": [
    {
     "name": "stdout",
     "output_type": "stream",
     "text": [
      "0.0396\n",
      "0.1075\n",
      "0.7264\n",
      "0.1265\n"
     ]
    }
   ],
   "source": [
    "n = 8\n",
    "p_hat = 0.618\n",
    "print(round(sp.stats.binom.cdf(2, n, p_hat),4))\n",
    "print(round(sp.stats.binom.pmf(3, n, p_hat),4))\n",
    "print(round(sp.stats.binom.cdf(6, n, p_hat)-sp.stats.binom.cdf(3, n,p_hat),4))\n",
    "print(round(1 - sp.stats.binom.cdf(6, n, p_hat),4))"
   ]
  },
  {
   "cell_type": "markdown",
   "metadata": {},
   "source": [
    "Ahora teniendo un estimador para p, las frecuencias y probabilidades para cada agrupamiento, puedo calcular el estadistico de prueba:"
   ]
  },
  {
   "cell_type": "code",
   "execution_count": 16,
   "metadata": {},
   "outputs": [],
   "source": [
    "def estadistico(n, pi,Ni):\n",
    "    t = 0\n",
    "    for i in range(len(Ni)):\n",
    "        t += ((Ni[i] - n*pi[i])**2)/(n*pi[i])\n",
    "    return t\n",
    "\n",
    "def calcular_pvalor_param(t, k, m):\n",
    "    return 1 - sp.stats.chi2.cdf(t, k-1-m)"
   ]
  },
  {
   "cell_type": "code",
   "execution_count": 31,
   "metadata": {},
   "outputs": [
    {
     "name": "stdout",
     "output_type": "stream",
     "text": [
      "25.6382\n",
      "2.7085010531058273e-06\n"
     ]
    }
   ],
   "source": [
    "n = 18 # TAMAÑO DE LA MUESTRA\n",
    "Ni = [3.0, 4.0, 4.0, 7.0] # FRECUENCIAS OBSERVADAS\n",
    "pi = [0.0396, 0.1075, 0.7264, 0.1265] # PROBABILIDADES PARA CADA GRUPO\n",
    "k = 4 # CANTIDAD DE GRUPOS\n",
    "m = 1 # PARAMETROS ESTIMADOS\n",
    "\n",
    "t = estadistico(n, pi, Ni)\n",
    "print(round(t,4))\n",
    "print(calcular_pvalor_param(t, k, m))"
   ]
  },
  {
   "cell_type": "code",
   "execution_count": 32,
   "metadata": {},
   "outputs": [
    {
     "data": {
      "text/plain": [
       "Power_divergenceResult(statistic=25.63823038606894, pvalue=2.70850105310289e-06)"
      ]
     },
     "execution_count": 32,
     "metadata": {},
     "output_type": "execute_result"
    }
   ],
   "source": [
    "pi_2= [n*i for i in pi]\n",
    "sp.stats.chisquare(Ni, pi_2, ddof=m)\n",
    "# chisquare usa la cantidad de grados de libertad como k-1-ddof.\n",
    "# como estime un parametro paso dd0f=1."
   ]
  },
  {
   "cell_type": "markdown",
   "metadata": {},
   "source": [
    "Ahora para hacer una simulacion debo generar N muestras de tamaño 18 y de una Bin(8, 0.618) y calcular un nuevo $\\hat{p}_{sim}$ y recalcular el estadistico de prueba."
   ]
  },
  {
   "cell_type": "code",
   "execution_count": null,
   "metadata": {},
   "outputs": [],
   "source": [
    "def gen_muestra(N, n, p):\n",
    "    return [sp.stats.binom.rvs(n, p) for i in range(N)]"
   ]
  },
  {
   "cell_type": "code",
   "execution_count": null,
   "metadata": {},
   "outputs": [],
   "source": [
    "def estimar_pvalor(nsims, n, p_hat, pi, Ni):\n",
    "    t_est = 0\n",
    "    t = estadistico(n, pi, Ni)\n",
    "    print(t)\n",
    "    p_sim = p_hat\n",
    "    for i in range(nsims):\n",
    "        Ni_m = [0, 0, 0, 0]\n",
    "        pi_m = [0, 0, 0, 0]\n",
    "        muestra = gen_muestra(n, 8, p_sim) # genero una nueva muestra de tamaño n\n",
    "        for obs in muestra:\n",
    "            if obs <= 2:\n",
    "                Ni_m[0] += 1\n",
    "            elif obs == 3:\n",
    "                Ni_m[1] += 1\n",
    "            elif obs <= 6: # entre 4 y 6\n",
    "                Ni_m[2] += 1\n",
    "            else: # mayor que 7\n",
    "                Ni_m[3] += 1\n",
    "        # Ya tengo las frecuencias de la nueva muestra por grupo, \n",
    "        # ahora debo calcular el p_sim\n",
    "        p_sim = np.mean(muestra)/8 \n",
    "        # ahora recalculo las probabilidades\n",
    "        pi_m[0]=round(sp.stats.binom.cdf(2, 8, p_sim),4)\n",
    "        pi_m[1]=round(sp.stats.binom.pmf(3, 8, p_sim),4)\n",
    "        pi_m[2]=round(sp.stats.binom.cdf(6, 8, p_sim)-sp.stats.binom.cdf(3, 8,p_sim),4)\n",
    "        pi_m[3]=round(1 - sp.stats.binom.cdf(6, 8, p_sim),4)\n",
    "        t1 = estadistico(n, pi_m, Ni_m)  # calculo un nuevo estadistico\n",
    "        if t1 >= t:\n",
    "            t_est += 1\n",
    "\n",
    "    return t_est/nsims"
   ]
  },
  {
   "cell_type": "code",
   "execution_count": null,
   "metadata": {},
   "outputs": [
    {
     "name": "stdout",
     "output_type": "stream",
     "text": [
      "25.63823038606894\n"
     ]
    },
    {
     "name": "stderr",
     "output_type": "stream",
     "text": [
      "/tmp/ipykernel_46389/1861835612.py:4: RuntimeWarning: invalid value encountered in scalar divide\n",
      "  t += ((Ni[i] - n*pi[i])**2)/(n*pi[i])\n"
     ]
    },
    {
     "name": "stdout",
     "output_type": "stream",
     "text": [
      "0.001\n"
     ]
    }
   ],
   "source": [
    "nsims = 1000\n",
    "n = 18 # tamaño de la muestra\n",
    "p_hat = 0.618 # estimador de p con datos iniciales\n",
    "Ni = [3.0, 4.0, 4.0, 7.0] # frecuencias observadas de muestra inicial\n",
    "pi = [0.0396, 0.1075, 0.7264, 0.1265] # probabilidades de muestra inicial \n",
    "print(estimar_pvalor(nsims, n, p_hat, pi, Ni))"
   ]
  }
 ],
 "metadata": {
  "kernelspec": {
   "display_name": "FAMAF",
   "language": "python",
   "name": "python3"
  },
  "language_info": {
   "codemirror_mode": {
    "name": "ipython",
    "version": 3
   },
   "file_extension": ".py",
   "mimetype": "text/x-python",
   "name": "python",
   "nbconvert_exporter": "python",
   "pygments_lexer": "ipython3",
   "version": "3.12.0"
  }
 },
 "nbformat": 4,
 "nbformat_minor": 2
}
