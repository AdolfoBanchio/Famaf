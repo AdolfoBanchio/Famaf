{
 "cells": [
  {
   "cell_type": "code",
   "execution_count": 3,
   "metadata": {},
   "outputs": [],
   "source": [
    "import random as rd\n",
    "import numpy as np\n",
    "import time\n",
    "import scipy as sc"
   ]
  },
  {
   "attachments": {
    "image.png": {
     "image/png": "[encoded data removed]"
    }
   },
   "cell_type": "markdown",
   "metadata": {},
   "source": [
    "![image.png](attachment:image.png)"
   ]
  },
  {
   "cell_type": "markdown",
   "metadata": {},
   "source": [
    "La funcion de probabilidad de masa de una Poisson es:\n",
    "$$P(X=k)=\\frac{e^{-\\lambda}\\lambda^k}{k!}$$"
   ]
  },
  {
   "cell_type": "markdown",
   "metadata": {},
   "source": [
    "Y las probabilidades cumplen una relacion de recurrencia entre ellas, donde:\n",
    "$$\n",
    "p_0 = e^{-\\lambda}, \\quad p_{k+1} = p_{k} \\frac{\\lambda}{k+1}\n",
    "$$"
   ]
  },
  {
   "cell_type": "markdown",
   "metadata": {},
   "source": [
    "por lo que el metodo se puede escribir de la siguiente manera"
   ]
  },
  {
   "cell_type": "code",
   "execution_count": 7,
   "metadata": {},
   "outputs": [],
   "source": [
    "def transf_inv_poisson(lamda):\n",
    "    u = rd.random()\n",
    "    i = 0\n",
    "    p = np.exp(-lamda)\n",
    "    F = p\n",
    "\n",
    "    while u >= F:\n",
    "        i += 1\n",
    "        p *= lamda / i\n",
    "        F += p\n",
    "    \n",
    "    return i\n",
    "\n",
    "def simulacion_a(nsims, lamda):\n",
    "    return [transf_inv_poisson(lamda) for i in range(nsims)]"
   ]
  },
  {
   "cell_type": "markdown",
   "metadata": {},
   "source": [
    "Esto chequea desde 0 en adelante, pero en las poisson tenemos que los valores mas probabes son los mas cercanos a $\\lambda$. Entonces partiremos buscando desde ahi y luego de manera ascendente o descendente segun el u."
   ]
  },
  {
   "cell_type": "code",
   "execution_count": 18,
   "metadata": {},
   "outputs": [],
   "source": [
    "def transf_inv_poisson_mejorada(lamda):\n",
    "    p = np.exp(-lamda)\n",
    "    F = p\n",
    "    for j in range(1, int(lamda)+1):\n",
    "        p *= lamda / j\n",
    "        F += p\n",
    "    # establezo la acomulacion de probabilidad en la prob de lamda\n",
    "    u = rd.random()\n",
    "\n",
    "    if u >= F: # si el valor generado es mayor que esa probabilidad de lamda, \n",
    "               # entonces debo seguir buscando hacia arriba.\n",
    "        j = int(lamda) + 1\n",
    "        while u >= F:\n",
    "            p *= lamda / j\n",
    "            F += p\n",
    "            j += 1\n",
    "        return j -1\n",
    "    else: # el valor generado era menor que la probabilidad de lamda\n",
    "        j = int(lamda)\n",
    "        while u < F:\n",
    "            F -= p\n",
    "            p *= j / lamda\n",
    "            j -= 1\n",
    "        return j+1\n",
    "    \n",
    "def simulacion_b(nsims, lamda):\n",
    "    return [transf_inv_poisson_mejorada(lamda) for i in range(nsims)]"
   ]
  },
  {
   "cell_type": "code",
   "execution_count": 19,
   "metadata": {},
   "outputs": [
    {
     "name": "stdout",
     "output_type": "stream",
     "text": [
      "Tiempo de ejecucion metodo a:  0.03959989547729492\n",
      "Probabilidad estimada con metodo sin mejora: 0.9973\n",
      "Tiempo de ejecucion metodo b:  0.03066086769104004\n",
      "Probabilidad estimada con metodo con mejora: 0.9963\n"
     ]
    }
   ],
   "source": [
    "nsims = 10000\n",
    "lamda = 10\n",
    "\n",
    "# quiero estimar la probabilidad P(Y > 2) con ambos metodos\n",
    "\n",
    "# metodo a (sin mejora)\n",
    "start = time.time()\n",
    "Y_a = simulacion_a(nsims, lamda)\n",
    "end = time.time()\n",
    "print(\"Tiempo de ejecucion metodo a: \", end - start)\n",
    "prob_a = sum([1 for y in Y_a if y > 2]) / nsims\n",
    "print(f\"Probabilidad estimada con metodo sin mejora: {prob_a}\")\n",
    "# metodo b (con mejora)\n",
    "start = time.time()\n",
    "Y_b = simulacion_b(nsims, lamda)\n",
    "end = time.time()\n",
    "print(\"Tiempo de ejecucion metodo b: \", end - start)\n",
    "prob_a_b = sum([1 for y in Y_b if y > 2]) / nsims\n",
    "print(f\"Probabilidad estimada con metodo con mejora: {prob_a_b}\")"
   ]
  }
 ],
 "metadata": {
  "kernelspec": {
   "display_name": "FAMAF",
   "language": "python",
   "name": "python3"
  },
  "language_info": {
   "codemirror_mode": {
    "name": "ipython",
    "version": 3
   },
   "file_extension": ".py",
   "mimetype": "text/x-python",
   "name": "python",
   "nbconvert_exporter": "python",
   "pygments_lexer": "ipython3",
   "version": "3.12.0"
  }
 },
 "nbformat": 4,
 "nbformat_minor": 2
}
